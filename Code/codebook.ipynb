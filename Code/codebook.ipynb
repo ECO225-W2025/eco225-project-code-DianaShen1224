{
 "cells": [
  {
   "cell_type": "code",
   "execution_count": 2,
   "id": "0ffa43db-0bc5-48d2-8118-6421905de079",
   "metadata": {},
   "outputs": [
    {
     "name": "stdout",
     "output_type": "stream",
     "text": [
      "Note: you may need to restart the kernel to use updated packages.\n"
     ]
    }
   ],
   "source": [
    "pip install -q nbconvert "
   ]
  },
  {
   "cell_type": "code",
   "execution_count": 3,
   "id": "73db579f-4759-4680-8ddd-13711a960ad3",
   "metadata": {},
   "outputs": [
    {
     "name": "stdout",
     "output_type": "stream",
     "text": [
      "Note: you may need to restart the kernel to use updated packages.\n"
     ]
    }
   ],
   "source": [
    "pip install -q pyppeteer "
   ]
  },
  {
   "cell_type": "code",
   "execution_count": 4,
   "id": "456fa447-cf0e-4eb4-a234-f363350a62fd",
   "metadata": {},
   "outputs": [],
   "source": [
    "! pip install -q qeds"
   ]
  },
  {
   "cell_type": "code",
   "execution_count": null,
   "id": "06ce0e86-899b-45f9-b599-2377e38212ba",
   "metadata": {},
   "outputs": [],
   "source": [
    "import pandas as pd\n",
    "import qeds\n",
    "%matplotlib inline\n",
    "import qeds\n",
    "import requests\n",
    "import pandas as pd\n",
    "from IPython.display import display"
   ]
  },
  {
   "cell_type": "code",
   "execution_count": null,
   "id": "70c12214-c0f2-408e-933a-78aeaab6bdfd",
   "metadata": {},
   "outputs": [],
   "source": [
    "file_path = \"../Data/housing.csv\"\n",
    "hp = pd.read_csv(file_path)\n",
    "hp = pd.DataFrame(hp)\n",
    "hp.head()"
   ]
  },
  {
   "cell_type": "code",
   "execution_count": null,
   "id": "bd90dc8d-8dcf-4cc2-8764-007ad55612b7",
   "metadata": {},
   "outputs": [],
   "source": [
    "print(\"\\nMissing Values Per Column:\")\n",
    "print(hp.isnull().sum())\n",
    "hp = hp.drop_duplicates()\n",
    "hp = hp.dropna()"
   ]
  },
  {
   "cell_type": "code",
   "execution_count": null,
   "id": "ff83c57b-d355-49cb-9b77-5b6bddbdffc4",
   "metadata": {},
   "outputs": [],
   "source": [
    "x_columns = ['total_rooms', 'population', 'ocean_proximity', 'median_income', 'housing_median_age']  # Replace with your variables\n",
    "y_column = 'median_house_value'  \n",
    "selected_columns = x_columns + [y_column]\n",
    "df_selected = df[selected_columns]\n",
    "print(\"\\nSummary Statistics for Selected Variables:\")\n",
    "print(df_selected.describe())"
   ]
  }
 ],
 "metadata": {
  "kernelspec": {
   "display_name": "Python 3 (ipykernel)",
   "language": "python",
   "name": "python3"
  },
  "language_info": {
   "codemirror_mode": {
    "name": "ipython",
    "version": 3
   },
   "file_extension": ".py",
   "mimetype": "text/x-python",
   "name": "python",
   "nbconvert_exporter": "python",
   "pygments_lexer": "ipython3",
   "version": "3.12.5"
  }
 },
 "nbformat": 4,
 "nbformat_minor": 5
}
